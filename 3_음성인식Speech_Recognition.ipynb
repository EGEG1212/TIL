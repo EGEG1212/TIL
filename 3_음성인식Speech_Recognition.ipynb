{
  "nbformat": 4,
  "nbformat_minor": 0,
  "metadata": {
    "colab": {
      "name": "3.음성인식Speech_Recognition.ipynb",
      "provenance": [],
      "collapsed_sections": [],
      "toc_visible": true,
      "authorship_tag": "ABX9TyN+aqOST6Zlb75fQiqK5PFw",
      "include_colab_link": true
    },
    "kernelspec": {
      "name": "python3",
      "display_name": "Python 3"
    },
    "language_info": {
      "name": "python"
    }
  },
  "cells": [
    {
      "cell_type": "markdown",
      "metadata": {
        "id": "view-in-github",
        "colab_type": "text"
      },
      "source": [
        "<a href=\"https://colab.research.google.com/github/EGEG1212/TIL_AudioSpeechProcessing/blob/main/3_%EC%9D%8C%EC%84%B1%EC%9D%B8%EC%8B%9DSpeech_Recognition.ipynb\" target=\"_parent\"><img src=\"https://colab.research.google.com/assets/colab-badge.svg\" alt=\"Open In Colab\"/></a>"
      ]
    },
    {
      "cell_type": "markdown",
      "metadata": {
        "id": "NK1COcVcu7tN"
      },
      "source": [
        "## 음성 인식(Speech Recognition)"
      ]
    },
    {
      "cell_type": "markdown",
      "metadata": {
        "id": "jlVPPckEvDpd"
      },
      "source": [
        "### Speech To Text(STT)\n",
        "- STT는 음성을 입력받아 그에 해당하는 구문(문자열)을 얻는 기술\n",
        "- 딥러닝을 이용한 STT 모델에는 WaveNet 등이 존재\n",
        "- SpeechRecognition을 이용하면 모델을 학습시키지 않고도 간편하게 구현 가능"
      ]
    },
    {
      "cell_type": "markdown",
      "metadata": {
        "id": "Vm0Slm81vDum"
      },
      "source": [
        "### 라이브러리 소개 및 설치\n",
        "- 음성인식 기술은 음성 데이터가 대부분 크고, 관련 기술 코드도 상당히 길어 구현이 힘듬.\n",
        "- SpeechRecognition을 사용하면 이러한 과정 없이 음성인식 기술을 이용할 수 있음."
      ]
    },
    {
      "cell_type": "code",
      "metadata": {
        "id": "1lTa-ymvvDyd",
        "colab": {
          "base_uri": "https://localhost:8080/"
        },
        "outputId": "528abbc9-6b15-4eb4-ac87-f5cde150949e"
      },
      "source": [
        "!pip install SpeechRecognition"
      ],
      "execution_count": null,
      "outputs": [
        {
          "output_type": "stream",
          "text": [
            "Collecting SpeechRecognition\n",
            "\u001b[?25l  Downloading https://files.pythonhosted.org/packages/26/e1/7f5678cd94ec1234269d23756dbdaa4c8cfaed973412f88ae8adf7893a50/SpeechRecognition-3.8.1-py2.py3-none-any.whl (32.8MB)\n",
            "\u001b[K     |████████████████████████████████| 32.8MB 122kB/s \n",
            "\u001b[?25hInstalling collected packages: SpeechRecognition\n",
            "Successfully installed SpeechRecognition-3.8.1\n"
          ],
          "name": "stdout"
        }
      ]
    },
    {
      "cell_type": "markdown",
      "metadata": {
        "id": "3X1iHBISvD2t"
      },
      "source": [
        "### Recognizer\n",
        "- SpeechRecognition 라이브러리의 기능을 이용하기 위해선 Recognizer 객체를 생성"
      ]
    },
    {
      "cell_type": "code",
      "metadata": {
        "id": "nMKwUhQCvD61"
      },
      "source": [
        "import speech_recognition as sr\n",
        "r = sr.Recognizer()"
      ],
      "execution_count": null,
      "outputs": []
    },
    {
      "cell_type": "markdown",
      "metadata": {
        "id": "LTdc_y5evD-1"
      },
      "source": [
        "- 여러 기업에서 제공하는 음성인식 기술 사용가능\n",
        "  - `recognize_google()` - Google Web Speech API\n",
        "  - `recognize_google_cloud()` - Google Cloud Speech\n",
        "  - `recognize_bing()` - Microsoft Bing Speech\n",
        "  - `recognize-houndify()` - SoundHound houndify\n",
        "  - `recognize_ibm()` - IBM Speech to Text\n",
        "  - `recognize_wit()` - Wit.ai\n",
        "  - `recognize_sphinx()` - CMU Sphinx(**Sphinx는 오프라인으로 동작**하며, 나머지 모든 함수는 인터넷 연결이 되어야만 사용가능)"
      ]
    },
    {
      "cell_type": "code",
      "metadata": {
        "id": "_TH5WQ1bvECv"
      },
      "source": [
        "## 음성데이터 \n",
        "- SpeechRecognition 지원 파일 형식\n",
        "  - WAV\n",
        "  - AIFF\n",
        "  - AIFF-C\n",
        "  - FLAC\n",
        "-OpenSpeechRepository에서 제공하는 Harvard Sentence 데이터 사용\n",
        "  - "
      ],
      "execution_count": null,
      "outputs": []
    },
    {
      "cell_type": "code",
      "metadata": {
        "id": "qkzVghYcvEGt"
      },
      "source": [
        "https://www.youtube.com/watch?v=WZt2_-S261g&list=PL7ZVZgsnLwEGskuPmm2-pYsNKY8Ihs5AP&index=3"
      ],
      "execution_count": null,
      "outputs": []
    },
    {
      "cell_type": "code",
      "metadata": {
        "id": "oL-sgBRkvEKW"
      },
      "source": [
        ""
      ],
      "execution_count": null,
      "outputs": []
    },
    {
      "cell_type": "code",
      "metadata": {
        "id": "YEeKwyZXvEOG"
      },
      "source": [
        ""
      ],
      "execution_count": null,
      "outputs": []
    },
    {
      "cell_type": "code",
      "metadata": {
        "id": "2JkjgWhyvER9"
      },
      "source": [
        ""
      ],
      "execution_count": null,
      "outputs": []
    },
    {
      "cell_type": "code",
      "metadata": {
        "id": "l0SZmIDRvEVu"
      },
      "source": [
        ""
      ],
      "execution_count": null,
      "outputs": []
    },
    {
      "cell_type": "code",
      "metadata": {
        "id": "E51-3mW8vEZt"
      },
      "source": [
        ""
      ],
      "execution_count": null,
      "outputs": []
    },
    {
      "cell_type": "code",
      "metadata": {
        "id": "gWcrNuBYvEdc"
      },
      "source": [
        ""
      ],
      "execution_count": null,
      "outputs": []
    },
    {
      "cell_type": "code",
      "metadata": {
        "id": "vHQmaXkdvEhG"
      },
      "source": [
        ""
      ],
      "execution_count": null,
      "outputs": []
    }
  ]
}